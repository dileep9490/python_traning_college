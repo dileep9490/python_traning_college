{
 "cells": [
  {
   "cell_type": "code",
   "execution_count": 3,
   "id": "b58e4c3e",
   "metadata": {},
   "outputs": [],
   "source": [
    "'''class bank:\n",
    "    def __init__(self,no,name,gender):\n",
    "        self.no=no\n",
    "        self.name=name\n",
    "        self.gender=gender\n",
    "        self.__password=\"random password\"\n",
    "    def \n",
    "        pass'''"
   ]
  },
  {
   "cell_type": "markdown",
   "id": "48944a87",
   "metadata": {},
   "source": [
    "# login system"
   ]
  },
  {
   "cell_type": "code",
   "execution_count": 14,
   "id": "9467e46c",
   "metadata": {},
   "outputs": [],
   "source": [
    "class user:\n",
    "    username=\"\"\n",
    "    mobile=\"\"\n",
    "    email=\"\"\n",
    "    __password=\"\"\n",
    "    def __init__(self,username,mobile,email,__password):\n",
    "        self.username=name\n",
    "        self.mobile=mobile\n",
    "        self.email=email\n",
    "        self.__password=__password\n",
    "    def update_name(self,new_name):\n",
    "        self.full_name=new_name\n",
    "    \n",
    "    "
   ]
  },
  {
   "cell_type": "code",
   "execution_count": 15,
   "id": "3ea5ed5f",
   "metadata": {},
   "outputs": [
    {
     "name": "stdout",
     "output_type": "stream",
     "text": [
      "welcome\n",
      "1.register\n",
      "2.login\n",
      "3.exit\n",
      "Enter your choice: 1\n",
      "Enter your full name: jhbhl\n",
      "Enter Email: hkhkggu\n",
      "create new password: hgkgyk\n",
      "mobile number6546459\n"
     ]
    },
    {
     "ename": "TypeError",
     "evalue": "__init__() missing 1 required positional argument: '_user__password'",
     "output_type": "error",
     "traceback": [
      "\u001b[1;31m---------------------------------------------------------------------------\u001b[0m",
      "\u001b[1;31mTypeError\u001b[0m                                 Traceback (most recent call last)",
      "Input \u001b[1;32mIn [15]\u001b[0m, in \u001b[0;36m<cell line: 20>\u001b[1;34m()\u001b[0m\n\u001b[0;32m     24\u001b[0m password \u001b[38;5;241m=\u001b[39m \u001b[38;5;28minput\u001b[39m(\u001b[38;5;124m\"\u001b[39m\u001b[38;5;124mcreate new password: \u001b[39m\u001b[38;5;124m\"\u001b[39m)\n\u001b[0;32m     25\u001b[0m mobile\u001b[38;5;241m=\u001b[39m\u001b[38;5;28minput\u001b[39m(\u001b[38;5;124m\"\u001b[39m\u001b[38;5;124mmobile number\u001b[39m\u001b[38;5;124m\"\u001b[39m)\n\u001b[1;32m---> 26\u001b[0m res \u001b[38;5;241m=\u001b[39m \u001b[43mobj\u001b[49m\u001b[38;5;241;43m.\u001b[39;49m\u001b[43mcreate_user\u001b[49m\u001b[43m(\u001b[49m\u001b[43mname\u001b[49m\u001b[43m,\u001b[49m\u001b[43mmobile\u001b[49m\u001b[43m,\u001b[49m\u001b[43memail\u001b[49m\u001b[43m,\u001b[49m\u001b[43mpassword\u001b[49m\u001b[43m)\u001b[49m\n\u001b[0;32m     27\u001b[0m \u001b[38;5;28;01mif\u001b[39;00m res \u001b[38;5;241m==\u001b[39m \u001b[38;5;28;01mTrue\u001b[39;00m:\n\u001b[0;32m     28\u001b[0m     \u001b[38;5;28mprint\u001b[39m(\u001b[38;5;124m\"\u001b[39m\u001b[38;5;124mUser created successfully\u001b[39m\u001b[38;5;124m\"\u001b[39m)\n",
      "Input \u001b[1;32mIn [15]\u001b[0m, in \u001b[0;36mlogin.create_user\u001b[1;34m(self, username, mobile, email, _login__password)\u001b[0m\n\u001b[0;32m     11\u001b[0m \u001b[38;5;28;01mdef\u001b[39;00m \u001b[38;5;21mcreate_user\u001b[39m(\u001b[38;5;28mself\u001b[39m,username,mobile,email,__password):\n\u001b[1;32m---> 12\u001b[0m     new_user\u001b[38;5;241m=\u001b[39m\u001b[43muser\u001b[49m\u001b[43m(\u001b[49m\u001b[43musername\u001b[49m\u001b[43m,\u001b[49m\u001b[43memail\u001b[49m\u001b[43m,\u001b[49m\u001b[43mpassword\u001b[49m\u001b[43m)\u001b[49m\n\u001b[0;32m     13\u001b[0m     \u001b[38;5;28mself\u001b[39m\u001b[38;5;241m.\u001b[39m__db\u001b[38;5;241m.\u001b[39mappend(new_user)\n\u001b[0;32m     14\u001b[0m     \u001b[38;5;28mprint\u001b[39m(\u001b[38;5;28mself\u001b[39m\u001b[38;5;241m.\u001b[39m__db)\n",
      "\u001b[1;31mTypeError\u001b[0m: __init__() missing 1 required positional argument: '_user__password'"
     ]
    }
   ],
   "source": [
    "#import user\n",
    "class login:\n",
    "    __db=[]\n",
    "    def __init__(self):\n",
    "        self.print_menu()\n",
    "    def print_menu(self):\n",
    "        print(\"welcome\")\n",
    "        print(\"1.register\")\n",
    "        print(\"2.login\")\n",
    "        print('3.exit')\n",
    "    def create_user(self,username,mobile,email,__password):\n",
    "        new_user=user(username,email,password)\n",
    "        self.__db.append(new_user)\n",
    "        print(self.__db)\n",
    "        return True\n",
    "    def validate_user(self,email,password):\n",
    "        pass\n",
    "obj=login()\n",
    "while True:\n",
    "    option = input(\"Enter your choice: \")\n",
    "    if option == '1':\n",
    "        name = input(\"Enter your full name: \")\n",
    "        email = input(\"Enter Email: \")\n",
    "        password = input(\"create new password: \")\n",
    "        mobile=input(\"mobile number\")\n",
    "        res = obj.create_user(name,mobile,email,password)\n",
    "        if res == True:\n",
    "            print(\"User created successfully\")\n",
    "    elif option == '2':\n",
    "        pass\n",
    "    elif option == '3':\n",
    "        break\n",
    "    else:\n",
    "        print(\"Invalid Input\")\n"
   ]
  },
  {
   "cell_type": "code",
   "execution_count": 12,
   "id": "42a9af5e",
   "metadata": {},
   "outputs": [],
   "source": [
    "class UserClass:\n",
    "    full_name = \"\"\n",
    "    email=\"\"\n",
    "    __password=\"\"\n",
    "    mobile_number = \"\"\n",
    "    def __init__(self, name, email, password):\n",
    "        self.full_name = name\n",
    "        self.email = email\n",
    "        self.__password = password\n",
    "    def update_name(self, new_name):\n",
    "        self.full_name = new_name\n",
    "    def get_name(self):\n",
    "        return self.full_name\n",
    "    \"\"\" setter method for private variable password \"\"\"\n",
    "    def update_password(self, new_password):\n",
    "        self.__password = new_password\n",
    "    def update_mobile_number(self, new_number):\n",
    "        self.mobile_number = new_number\n",
    "    \"\"\" getter method for private variable password \"\"\"\n",
    "    def get_user_password(self):\n",
    "        return self.__password"
   ]
  },
  {
   "cell_type": "code",
   "execution_count": 19,
   "id": "6eaa6d57",
   "metadata": {},
   "outputs": [
    {
     "name": "stdout",
     "output_type": "stream",
     "text": [
      "Welcome User\n",
      "1. Register\n",
      "2. Login\n",
      "3. Exit\n",
      "Enter your choice: 2\n",
      "Enter Email: murali@gmail.com\n",
      "create new password: murali123\n",
      "Enter your choice: 3\n"
     ]
    }
   ],
   "source": [
    "class Login:\n",
    "    __db = []\n",
    "    def __init__(self):\n",
    "        self.print_menu()\n",
    "    def print_menu(self):\n",
    "        print(\"Welcome User\")\n",
    "        print(\"1. Register\")\n",
    "        print(\"2. Login\")\n",
    "        print(\"3. Exit\")\n",
    "    def create_user(self, name, email, password):\n",
    "        new_user = UserClass(name, email, password)\n",
    "        self.__db.append(new_user)\n",
    "        print(self.__db)\n",
    "        return True\n",
    "    def validate_user(self, email, password):\n",
    "        temp=self.__db.copy()\n",
    "        for user_obj in temp:\n",
    "            if email==user_obj.email:\n",
    "                if password==user_obj.get_user_password:\n",
    "                    print('login sucessfuly')\n",
    "                    return\n",
    "                else:\n",
    "                    print(\"password is wrong\")\n",
    "                return\n",
    "            else:\n",
    "                print(\"user is not registered\")\n",
    "                return\n",
    "            return\n",
    "        \n",
    "            \n",
    "            \n",
    "\n",
    "obj = Login()\n",
    "while True:\n",
    "    option = input(\"Enter your choice: \")\n",
    "    if option == '1':\n",
    "        name = input(\"Enter your full name: \")\n",
    "        email = input(\"Enter Email: \")\n",
    "        password = input(\"create new password: \")\n",
    "        res = obj.create_user(name,email, password)\n",
    "        if res == True:\n",
    "            print(\"User created successfully\")\n",
    "    elif option == '2':\n",
    "        email = input(\"Enter Email: \")\n",
    "        password = input(\"create new password: \")\n",
    "        obj.validate_user(email, password)\n",
    "        \n",
    "    elif option == '3':\n",
    "        break\n",
    "    else:\n",
    "        print(\"Invalid Input\")\n"
   ]
  },
  {
   "cell_type": "code",
   "execution_count": 42,
   "id": "da40d309",
   "metadata": {},
   "outputs": [
    {
     "name": "stdout",
     "output_type": "stream",
     "text": [
      "enter email : 345\n",
      "mail can't start with number\n"
     ]
    }
   ],
   "source": [
    "mail=input(\"enter email : \")\n",
    "if mail[0].isalpha():\n",
    "    if \"@\" in mail:\n",
    "        domain=mail.split('@')\n",
    "        if domain[1]==\"gmail.com\":\n",
    "            print(\"google domain\")\n",
    "        else:\n",
    "            print(\"not a valid mail\")\n",
    "    else:\n",
    "        print(\"not valid mail since @ is not present\")\n",
    "else:\n",
    "    print(\"mail can't start with number\")"
   ]
  },
  {
   "cell_type": "code",
   "execution_count": null,
   "id": "32472271",
   "metadata": {},
   "outputs": [],
   "source": []
  }
 ],
 "metadata": {
  "kernelspec": {
   "display_name": "Python 3 (ipykernel)",
   "language": "python",
   "name": "python3"
  },
  "language_info": {
   "codemirror_mode": {
    "name": "ipython",
    "version": 3
   },
   "file_extension": ".py",
   "mimetype": "text/x-python",
   "name": "python",
   "nbconvert_exporter": "python",
   "pygments_lexer": "ipython3",
   "version": "3.9.12"
  }
 },
 "nbformat": 4,
 "nbformat_minor": 5
}
