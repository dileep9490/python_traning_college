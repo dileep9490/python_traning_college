{
 "cells": [
  {
   "cell_type": "code",
   "execution_count": 4,
   "id": "0bef92cd",
   "metadata": {},
   "outputs": [
    {
     "name": "stdout",
     "output_type": "stream",
     "text": [
      "5\n",
      "thursday\n"
     ]
    }
   ],
   "source": [
    "a=int(input())\n",
    "if a==1:\n",
    "    print(\"sunday\")\n",
    "elif a==2:\n",
    "    print(\"monday\")\n",
    "elif a==3:\n",
    "    print(\"tuesday\")\n",
    "elif a==4:\n",
    "    print(\"wednesday\")\n",
    "elif a==5:\n",
    "    print(\"thursday\")\n",
    "elif a==6:\n",
    "    print(\"friday\")\n",
    "elif a==7:\n",
    "    print(\"saturday\")\n",
    "else:\n",
    "    print(\"invalid number\")"
   ]
  },
  {
   "cell_type": "code",
   "execution_count": 9,
   "id": "68e3a905",
   "metadata": {},
   "outputs": [
    {
     "name": "stdout",
     "output_type": "stream",
     "text": [
      "4\n",
      "wednesday\n"
     ]
    }
   ],
   "source": [
    "a=int(input())\n",
    "if a  in range(1,8):\n",
    "    week={1:'sunday',2:'monday',3:'tuesday',4:'wednesday',5:'thursday',6:'friday',7:'saturday'}\n",
    "    print(week[a])\n",
    "else:\n",
    "    print(\"invalid number\")\n"
   ]
  },
  {
   "cell_type": "code",
   "execution_count": 14,
   "id": "910fb9e7",
   "metadata": {},
   "outputs": [
    {
     "name": "stdout",
     "output_type": "stream",
     "text": [
      "33\n",
      "normal number\n"
     ]
    }
   ],
   "source": [
    "a=int(input())\n",
    "if a in range(1,20):\n",
    "    if a%2==0:\n",
    "        print(\"weird number\")\n",
    "    else:\n",
    "        print(\"normal number\")\n",
    "elif a in range(20,30):\n",
    "    print(\"normal number\")\n",
    "elif a>=30:\n",
    "    if a%2==1:\n",
    "        print(\"normal number\")\n",
    "    else:\n",
    "        print(\"weird number\")\n"
   ]
  },
  {
   "cell_type": "code",
   "execution_count": 14,
   "id": "635faa21",
   "metadata": {},
   "outputs": [
    {
     "name": "stdout",
     "output_type": "stream",
     "text": [
      "0\n"
     ]
    }
   ],
   "source": [
    "l=[24,4,56,28,94,25]\n",
    "k=29\n",
    "flag=0\n",
    "for i in range(len(l)):\n",
    "    if k==l[i]:\n",
    "        flag=i\n",
    "print(flag)\n",
    "        "
   ]
  },
  {
   "cell_type": "code",
   "execution_count": 15,
   "id": "d5064eeb",
   "metadata": {},
   "outputs": [],
   "source": [
    "a = [i for i in range(1,101) if i%7==0 and i%11==0]"
   ]
  },
  {
   "cell_type": "code",
   "execution_count": 16,
   "id": "654cf062",
   "metadata": {},
   "outputs": [
    {
     "data": {
      "text/plain": [
       "[77]"
      ]
     },
     "execution_count": 16,
     "metadata": {},
     "output_type": "execute_result"
    }
   ],
   "source": [
    "a"
   ]
  },
  {
   "cell_type": "code",
   "execution_count": 17,
   "id": "bce09d46",
   "metadata": {},
   "outputs": [
    {
     "data": {
      "text/plain": [
       "[24, 4, 56, 28, 94, 25]"
      ]
     },
     "execution_count": 17,
     "metadata": {},
     "output_type": "execute_result"
    }
   ],
   "source": [
    "l"
   ]
  },
  {
   "cell_type": "code",
   "execution_count": 18,
   "id": "029269f8",
   "metadata": {},
   "outputs": [
    {
     "data": {
      "text/plain": [
       "[25, 94, 28, 56, 4, 24]"
      ]
     },
     "execution_count": 18,
     "metadata": {},
     "output_type": "execute_result"
    }
   ],
   "source": [
    "l[::-1]"
   ]
  },
  {
   "cell_type": "code",
   "execution_count": null,
   "id": "c169d7ca",
   "metadata": {},
   "outputs": [],
   "source": []
  },
  {
   "cell_type": "code",
   "execution_count": null,
   "id": "bc3880e6",
   "metadata": {},
   "outputs": [],
   "source": []
  },
  {
   "cell_type": "code",
   "execution_count": null,
   "id": "80ad7e8e",
   "metadata": {},
   "outputs": [],
   "source": []
  },
  {
   "cell_type": "code",
   "execution_count": null,
   "id": "0df164b1",
   "metadata": {},
   "outputs": [],
   "source": []
  },
  {
   "cell_type": "code",
   "execution_count": null,
   "id": "9a5175a9",
   "metadata": {},
   "outputs": [],
   "source": []
  }
 ],
 "metadata": {
  "kernelspec": {
   "display_name": "Python 3 (ipykernel)",
   "language": "python",
   "name": "python3"
  },
  "language_info": {
   "codemirror_mode": {
    "name": "ipython",
    "version": 3
   },
   "file_extension": ".py",
   "mimetype": "text/x-python",
   "name": "python",
   "nbconvert_exporter": "python",
   "pygments_lexer": "ipython3",
   "version": "3.9.12"
  }
 },
 "nbformat": 4,
 "nbformat_minor": 5
}
