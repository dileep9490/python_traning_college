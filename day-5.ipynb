{
 "cells": [
  {
   "cell_type": "markdown",
   "id": "1559ba29",
   "metadata": {},
   "source": [
    "# Inheritance"
   ]
  },
  {
   "cell_type": "code",
   "execution_count": 11,
   "id": "b2196e4b",
   "metadata": {},
   "outputs": [
    {
     "name": "stdout",
     "output_type": "stream",
     "text": [
      "nimmalapudi\n",
      "house,land\n"
     ]
    }
   ],
   "source": [
    "class family:\n",
    "    surname='nimmalapudi'\n",
    "    name=\"veeraju\"\n",
    "    property1=\"land\"\n",
    "class grandfather(family):\n",
    "    name=\"narayana rao\"\n",
    "    property2=\"house,land\"\n",
    "class father(grandfather):\n",
    "    name=\"sai ram\"\n",
    "    obj=father()\n",
    "    print(obj.surname)\n",
    "    print(obj.property2)\n",
    "    "
   ]
  },
  {
   "cell_type": "code",
   "execution_count": 26,
   "id": "592aceff",
   "metadata": {},
   "outputs": [
    {
     "name": "stdout",
     "output_type": "stream",
     "text": [
      "black\n"
     ]
    }
   ],
   "source": [
    "class grand_father1:\n",
    "    eye_color=\"brown\"\n",
    "    hair=\"bald\"\n",
    "    height=\"medium\"\n",
    "    body=\"lean\"\n",
    "class uncle(grand_father1):\n",
    "    eye_color=\"black\"\n",
    "    hair=\"bulcky\"\n",
    "    height=\"long\"\n",
    "class mom(grand_father1):\n",
    "    eye_color=\"brown\"\n",
    "    body=\"strong\"\n",
    "class son(mom,uncle):\n",
    "    obj1=son()\n",
    "    print(obj1.eye_color)\n",
    "    "
   ]
  },
  {
   "cell_type": "code",
   "execution_count": null,
   "id": "c339361f",
   "metadata": {},
   "outputs": [],
   "source": [
    "class owner:\n",
    "    plot1_price=200000\n",
    "    plot2_price=300000\n",
    "    plot3_price=200000\n",
    "    def sold():\n",
    "        pass\n",
    "class plot1buyer(owner):\n",
    "    ob1=plot1buyer()\n",
    "    print(obj1.plot1_price)\n",
    "class plot2buyer(owner):\n",
    "    obj2=plot2buyer()\n",
    "    print(obj2.plot2_price)\n",
    "class landlord(plot1buyer,plot2buyer):\n",
    "    obj3=land\n",
    "    "
   ]
  },
  {
   "cell_type": "markdown",
   "id": "d53d08ff",
   "metadata": {},
   "source": [
    "# rock paper scissor"
   ]
  },
  {
   "cell_type": "code",
   "execution_count": 2,
   "id": "6df8ba3c",
   "metadata": {},
   "outputs": [
    {
     "name": "stdout",
     "output_type": "stream",
     "text": [
      "enter ur choice\n",
      "rock,paper,scissor: paper\n",
      "computer choice:rock\n",
      "user wins the round\n",
      "computer score: 0\n",
      "user score: 1\n",
      "rock,paper,scissor: paper\n",
      "computer choice:paper\n",
      "round tied\n",
      "rock,paper,scissor: rock\n",
      "computer choice:paper\n",
      "computer wins the round\n",
      "computer score:1\n",
      "user score:1\n",
      "rock,paper,scissor: paper\n",
      "computer choice:paper\n",
      "round tied\n",
      "rock,paper,scissor: rock\n",
      "computer choice:paper\n",
      "computer wins the round\n",
      "computer score:2\n",
      "user score:1\n",
      "rock,paper,scissor: paper\n",
      "computer choice:paper\n",
      "round tied\n",
      "rock,paper,scissor: scissor\n",
      "computer choice:rock\n",
      "computer wins the round\n",
      "computer score:3\n",
      "user score:1\n",
      "rock,paper,scissor: scissor\n",
      "computer choice:rock\n",
      "computer wins the round\n",
      "computer score:4\n",
      "user score:1\n",
      "rock,paper,scissor: rock\n",
      "computer choice:paper\n",
      "computer wins the round\n",
      "computer score:5\n",
      "user score:1\n",
      "better luck next time computer won\n"
     ]
    }
   ],
   "source": [
    "from random import choice\n",
    "\n",
    "print(\"enter ur choice\")\n",
    "list=['rock','paper','scissor']\n",
    "score_u=0\n",
    "score_c=0\n",
    "while score_u!=5 and score_c!=5:\n",
    "    user=input(\"rock,paper,scissor: \").lower()\n",
    "    computer=choice(list)\n",
    "    print(f'computer choice:{computer}')\n",
    "    if user==computer:\n",
    "        print('round tied')\n",
    "    \n",
    "    elif ((user=='rock'and computer=='paper') or (user=='scissor' and computer=='rock') or (user=='paper' and computer=='scissor')):\n",
    "        print('computer wins the round')\n",
    "        score_c+=1\n",
    "        print(f'computer score:{score_c}')\n",
    "        print(f'user score:{score_u}')\n",
    "    elif ((computer=='rock'and user=='paper') or (computer=='scissor' and user=='rock') or (computer=='paper' and user=='scissor')):\n",
    "        print(\"user wins the round\")\n",
    "        score_u+=1\n",
    "        print(f'computer score: {score_c}')\n",
    "        print(f'user score: {score_u}')\n",
    "    else:\n",
    "        print(\"invalid input\")\n",
    "if score_u>score_c:\n",
    "    print(\" congrats you won\")\n",
    "else:\n",
    "    print(\"better luck next time computer won\")"
   ]
  },
  {
   "cell_type": "code",
   "execution_count": 6,
   "id": "ecfe8ba6",
   "metadata": {},
   "outputs": [
    {
     "name": "stdout",
     "output_type": "stream",
     "text": [
      "5\n",
      "7\n"
     ]
    },
    {
     "ename": "ValueError",
     "evalue": "invalid literal for int() with base 10: '-0b110'",
     "output_type": "error",
     "traceback": [
      "\u001b[1;31m---------------------------------------------------------------------------\u001b[0m",
      "\u001b[1;31mValueError\u001b[0m                                Traceback (most recent call last)",
      "Input \u001b[1;32mIn [6]\u001b[0m, in \u001b[0;36m<cell line: 7>\u001b[1;34m()\u001b[0m\n\u001b[0;32m      5\u001b[0m x1\u001b[38;5;241m=\u001b[39m\u001b[38;5;241m~\u001b[39mx\n\u001b[0;32m      6\u001b[0m y1\u001b[38;5;241m=\u001b[39m\u001b[38;5;241m~\u001b[39my\n\u001b[1;32m----> 7\u001b[0m x2\u001b[38;5;241m=\u001b[39m\u001b[38;5;28;43mint\u001b[39;49m\u001b[43m(\u001b[49m\u001b[38;5;28;43mbin\u001b[39;49m\u001b[43m(\u001b[49m\u001b[43mx1\u001b[49m\u001b[43m)\u001b[49m\u001b[43m)\u001b[49m[\u001b[38;5;241m2\u001b[39m:]\n\u001b[0;32m      8\u001b[0m y2\u001b[38;5;241m=\u001b[39m\u001b[38;5;28mint\u001b[39m(\u001b[38;5;28mbin\u001b[39m(y1))[\u001b[38;5;241m2\u001b[39m:]\n\u001b[0;32m      9\u001b[0m x2\u001b[38;5;241m^\u001b[39my2\n",
      "\u001b[1;31mValueError\u001b[0m: invalid literal for int() with base 10: '-0b110'"
     ]
    }
   ],
   "source": [
    "x=int(input())\n",
    "y=int(input())"
   ]
  },
  {
   "cell_type": "code",
   "execution_count": null,
   "id": "561db6b8",
   "metadata": {},
   "outputs": [],
   "source": []
  }
 ],
 "metadata": {
  "kernelspec": {
   "display_name": "Python 3 (ipykernel)",
   "language": "python",
   "name": "python3"
  },
  "language_info": {
   "codemirror_mode": {
    "name": "ipython",
    "version": 3
   },
   "file_extension": ".py",
   "mimetype": "text/x-python",
   "name": "python",
   "nbconvert_exporter": "python",
   "pygments_lexer": "ipython3",
   "version": "3.9.12"
  }
 },
 "nbformat": 4,
 "nbformat_minor": 5
}
