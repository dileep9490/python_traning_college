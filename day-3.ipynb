{
 "cells": [
  {
   "cell_type": "code",
   "execution_count": null,
   "id": "7473f9a5",
   "metadata": {},
   "outputs": [],
   "source": [
    "database={}\n",
    "for i in range(5):\n",
    "    username,password=map(str,input(f'username,password ').split(' '))\n",
    "    database[username]=password"
   ]
  },
  {
   "cell_type": "code",
   "execution_count": null,
   "id": "e14dde71",
   "metadata": {},
   "outputs": [],
   "source": [
    "username1=input('enter username ')\n",
    "if username1  in database:\n",
    "    password1=input(\"enter password\")\n",
    "    if database[username1]==password1:\n",
    "        print(\"login sucessful\")\n",
    "    else:\n",
    "        print(\"password is incorrect\")\n",
    "else:    \n",
    "    print(\"enter valid user id\")"
   ]
  },
  {
   "cell_type": "code",
   "execution_count": null,
   "id": "9af5f150",
   "metadata": {},
   "outputs": [],
   "source": [
    "row=3\n",
    "col=3\n",
    "arr=[]\n",
    "for i in range(row):\n",
    "    element=[]\n",
    "    for j in range(col):\n",
    "        n=int(input('enter element'))\n",
    "        element.append(n)\n",
    "    arr.append(element)\n",
    "        "
   ]
  },
  {
   "cell_type": "code",
   "execution_count": null,
   "id": "b13ddff3",
   "metadata": {},
   "outputs": [],
   "source": [
    "arr"
   ]
  },
  {
   "cell_type": "code",
   "execution_count": null,
   "id": "4c17151a",
   "metadata": {},
   "outputs": [],
   "source": [
    "row=3\n",
    "col=3\n",
    "arr1=[]\n",
    "for i in range(row):\n",
    "    element1=[]\n",
    "    for j in range(col):\n",
    "        n=int(input('enter element'))\n",
    "        element1.append(n)\n",
    "    arr1.append(element1)"
   ]
  },
  {
   "cell_type": "code",
   "execution_count": null,
   "id": "ac2a5942",
   "metadata": {},
   "outputs": [],
   "source": [
    "arr1"
   ]
  },
  {
   "cell_type": "code",
   "execution_count": null,
   "id": "80afccfb",
   "metadata": {},
   "outputs": [],
   "source": [
    "res=[[0 for j in range(col)] for i in range(row)]\n",
    "for i in range(row):\n",
    "    for j in range(col):\n",
    "        res[i][j]=arr[i][j]+arr1[i][j]"
   ]
  },
  {
   "cell_type": "code",
   "execution_count": null,
   "id": "9094a2bc",
   "metadata": {},
   "outputs": [],
   "source": [
    "res"
   ]
  },
  {
   "cell_type": "code",
   "execution_count": null,
   "id": "11727dd6",
   "metadata": {},
   "outputs": [],
   "source": [
    "res1=[[0 for j in range(col)] for i in range(row)]\n",
    "for i in range(row):\n",
    "    for j in range(col):\n",
    "        res1[i][j]=arr[j][i]\n",
    "        "
   ]
  },
  {
   "cell_type": "code",
   "execution_count": null,
   "id": "995385a6",
   "metadata": {},
   "outputs": [],
   "source": [
    "for i in range(3):\n",
    "    print(res1[i],\",\")"
   ]
  },
  {
   "cell_type": "code",
   "execution_count": null,
   "id": "271fe235",
   "metadata": {},
   "outputs": [],
   "source": [
    "import array"
   ]
  },
  {
   "cell_type": "code",
   "execution_count": null,
   "id": "6319b34c",
   "metadata": {},
   "outputs": [],
   "source": [
    "arr = np.array(arr)\n",
    "arr1 = np.array(arr1)"
   ]
  },
  {
   "cell_type": "code",
   "execution_count": null,
   "id": "d14c12d3",
   "metadata": {},
   "outputs": [],
   "source": [
    "arr + arr1"
   ]
  },
  {
   "cell_type": "code",
   "execution_count": null,
   "id": "b0f59bf2",
   "metadata": {},
   "outputs": [],
   "source": []
  },
  {
   "cell_type": "code",
   "execution_count": 50,
   "id": "63fddc51",
   "metadata": {},
   "outputs": [
    {
     "name": "stdout",
     "output_type": "stream",
     "text": [
      "uuhhuh4ruwhaukhjrfsuhe\n",
      "\n",
      "CPU times: total: 0 ns\n",
      "Wall time: 6.94 s\n"
     ]
    }
   ],
   "source": [
    "%%time\n",
    "\n",
    "try:\n",
    "    a = list(map(int,input().split('')))\n",
    "    print(a)\n",
    "except:\n",
    "    print(\"\")"
   ]
  },
  {
   "cell_type": "code",
   "execution_count": 46,
   "id": "8862ab8c",
   "metadata": {},
   "outputs": [
    {
     "name": "stdout",
     "output_type": "stream",
     "text": [
      " prime\n",
      "CPU times: total: 0 ns\n",
      "Wall time: 0 ns\n"
     ]
    }
   ],
   "source": [
    "%%time\n",
    "def prime(n):\n",
    "    for i in range(2,int(n**0.5+1)):\n",
    "        if n%i == 0:\n",
    "            print(\"not prime\")\n",
    "            return\n",
    "        else:\n",
    "            print(\" prime\")\n",
    "            return\n",
    "prime(19)"
   ]
  },
  {
   "cell_type": "code",
   "execution_count": null,
   "id": "287df2c1",
   "metadata": {},
   "outputs": [],
   "source": [
    "\n"
   ]
  },
  {
   "cell_type": "code",
   "execution_count": null,
   "id": "59f73782",
   "metadata": {},
   "outputs": [],
   "source": []
  },
  {
   "cell_type": "code",
   "execution_count": null,
   "id": "2fefc093",
   "metadata": {},
   "outputs": [],
   "source": []
  }
 ],
 "metadata": {
  "kernelspec": {
   "display_name": "Python 3 (ipykernel)",
   "language": "python",
   "name": "python3"
  },
  "language_info": {
   "codemirror_mode": {
    "name": "ipython",
    "version": 3
   },
   "file_extension": ".py",
   "mimetype": "text/x-python",
   "name": "python",
   "nbconvert_exporter": "python",
   "pygments_lexer": "ipython3",
   "version": "3.9.12"
  }
 },
 "nbformat": 4,
 "nbformat_minor": 5
}
